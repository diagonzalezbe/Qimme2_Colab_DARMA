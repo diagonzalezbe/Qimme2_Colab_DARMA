{
  "cells": [
    {
      "cell_type": "code",
      "execution_count": null,
      "metadata": {
        "colab": {
          "base_uri": "https://localhost:8080/"
        },
        "id": "og-C5890FOgf",
        "outputId": "22bf82db-62ca-4f70-b8f5-1e558a6f354b"
      },
      "outputs": [
        {
          "output_type": "stream",
          "name": "stdout",
          "text": [
            "Cloning into 'tutorial'...\n",
            "remote: Enumerating objects: 92, done.\u001b[K\n",
            "remote: Counting objects: 100% (2/2), done.\u001b[K\n",
            "remote: Compressing objects: 100% (2/2), done.\u001b[K\n",
            "remote: Total 92 (delta 0), reused 0 (delta 0), pack-reused 90\u001b[K\n",
            "Unpacking objects: 100% (92/92), done.\n",
            "Checking out files: 100% (63/63), done.\n"
          ]
        }
      ],
      "source": [
        "!git clone https://github.com/diagonzalezbe/Qimme2_Colab_DARMA tutorial"
      ]
    },
    {
      "cell_type": "code",
      "execution_count": null,
      "metadata": {
        "id": "tVlugab5F9Es"
      },
      "outputs": [],
      "source": [
        "%run tutorial/setup_qiime2.py"
      ]
    },
    {
      "cell_type": "code",
      "execution_count": null,
      "metadata": {
        "id": "0BjabE-6IzfC"
      },
      "outputs": [],
      "source": [
        "%cd tutorial\n"
      ]
    },
    {
      "cell_type": "code",
      "execution_count": null,
      "metadata": {
        "id": "exn1-NyVI4Nk"
      },
      "outputs": [],
      "source": [
        "%ls -lh"
      ]
    },
    {
      "cell_type": "code",
      "source": [
        "%ls -lh"
      ],
      "metadata": {
        "id": "uew7IAQAtW_P"
      },
      "execution_count": null,
      "outputs": []
    },
    {
      "cell_type": "code",
      "execution_count": null,
      "metadata": {
        "colab": {
          "base_uri": "https://localhost:8080/"
        },
        "id": "UGv5XwNFICek",
        "outputId": "2fa00900-470e-4449-fac3-df3def26038e"
      },
      "outputs": [
        {
          "output_type": "stream",
          "name": "stdout",
          "text": [
            "\u001b[32mImported otus.fasta as DNASequencesDirectoryFormat to otus.qza\u001b[0m\n"
          ]
        }
      ],
      "source": [
        "!qiime tools import \\\n",
        "  --type 'FeatureData[Sequence]' \\\n",
        "  --input-path otus.fasta \\\n",
        "  --output-path otus.qza\n"
      ]
    },
    {
      "cell_type": "code",
      "execution_count": null,
      "metadata": {
        "colab": {
          "base_uri": "https://localhost:8080/"
        },
        "id": "iWpetdz5JC2z",
        "outputId": "ba0db24b-9428-4adc-aa1a-c9589c17f755"
      },
      "outputs": [
        {
          "output_type": "stream",
          "name": "stdout",
          "text": [
            "\u001b[32mImported otus_taxonomy.txt as HeaderlessTSVTaxonomyFormat to ref-taxonomy.qza\u001b[0m\n"
          ]
        }
      ],
      "source": [
        "!qiime tools import \\\n",
        "  --type 'FeatureData[Taxonomy]' \\\n",
        "  --input-format HeaderlessTSVTaxonomyFormat \\\n",
        "  --input-path otus_taxonomy.txt \\\n",
        "  --output-path ref-taxonomy.qza"
      ]
    },
    {
      "cell_type": "code",
      "execution_count": null,
      "metadata": {
        "colab": {
          "base_uri": "https://localhost:8080/"
        },
        "id": "KsrJfuw1JWcS",
        "outputId": "880c724f-ed0b-43ff-a9ad-87ab47cb1872"
      },
      "outputs": [
        {
          "name": "stdout",
          "output_type": "stream",
          "text": [
            "\u001b[0m\u001b[01;34mdata\u001b[0m/          manifest.tsv  otus.fasta  otus_taxonomy.txt  setup_qiime2.py\n",
            "manifesto.tsv  metadata.tsv  otus.qza    ref-taxonomy.qza\n"
          ]
        }
      ],
      "source": [
        "%ls"
      ]
    },
    {
      "cell_type": "code",
      "execution_count": null,
      "metadata": {
        "colab": {
          "base_uri": "https://localhost:8080/"
        },
        "id": "X6mniBepJFBL",
        "outputId": "39c0dafc-ec9b-4980-e313-e8997ba233da"
      },
      "outputs": [
        {
          "output_type": "stream",
          "name": "stdout",
          "text": [
            "\u001b[32mSaved TaxonomicClassifier to: classifier.qza\u001b[0m\n"
          ]
        }
      ],
      "source": [
        "!qiime feature-classifier fit-classifier-naive-bayes \\\n",
        "  --i-reference-reads otus.qza \\\n",
        "  --i-reference-taxonomy ref-taxonomy.qza \\\n",
        "  --o-classifier classifier.qza"
      ]
    },
    {
      "cell_type": "code",
      "source": [
        "!qiime feature-classifier classify-sklearn \\\n",
        "  --i-classifier classifier.qza \\\n",
        "  --i-reads rep-seqs-dada2.qza \\\n",
        "  --o-classification taxonomy.qza \\\n",
        "  --p-n-jobs -1\n"
      ],
      "metadata": {
        "colab": {
          "base_uri": "https://localhost:8080/"
        },
        "id": "IR8XxgtR5YTI",
        "outputId": "dab2aee1-8b88-4f5f-cedd-7db5cc071e50"
      },
      "execution_count": null,
      "outputs": [
        {
          "output_type": "stream",
          "name": "stdout",
          "text": [
            "\u001b[32mSaved FeatureData[Taxonomy] to: taxonomy.qza\u001b[0m\n"
          ]
        }
      ]
    },
    {
      "cell_type": "code",
      "source": [
        "!qiime metadata tabulate \\\n",
        "  --m-input-file taxonomy.qza \\\n",
        "  --o-visualization taxonomy.qzv\n"
      ],
      "metadata": {
        "colab": {
          "base_uri": "https://localhost:8080/"
        },
        "id": "U7b-X-LO-7My",
        "outputId": "83c178db-eef0-48a9-c3dc-83d1474af583"
      },
      "execution_count": null,
      "outputs": [
        {
          "output_type": "stream",
          "name": "stdout",
          "text": [
            "\u001b[32mSaved Visualization to: taxonomy.qzv\u001b[0m\n"
          ]
        }
      ]
    },
    {
      "cell_type": "code",
      "execution_count": null,
      "metadata": {
        "colab": {
          "base_uri": "https://localhost:8080/"
        },
        "id": "uj4J4_EALL6L",
        "outputId": "10ac32e7-76cb-476d-996e-a52d82be5435"
      },
      "outputs": [
        {
          "output_type": "stream",
          "name": "stdout",
          "text": [
            "classifier.qza  metadata.tsv       ref-taxonomy.qza    taxonomy.qzv\n",
            "\u001b[0m\u001b[01;34mdata\u001b[0m/           otus.fasta         rep-seqs-dada2.qza\n",
            "manifesto.tsv   otus.qza           setup_qiime2.py\n",
            "manifest.tsv    otus_taxonomy.txt  taxonomy.qza\n"
          ]
        }
      ],
      "source": [
        "%ls\n"
      ]
    }
  ],
  "metadata": {
    "colab": {
      "provenance": []
    },
    "kernelspec": {
      "display_name": "Python 3",
      "name": "python3"
    },
    "language_info": {
      "name": "python"
    }
  },
  "nbformat": 4,
  "nbformat_minor": 0
}